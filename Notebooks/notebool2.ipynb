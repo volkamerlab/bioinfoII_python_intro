{
 "cells": [
  {
   "cell_type": "markdown",
   "metadata": {},
   "source": [
    "## Important Python Libraries\n",
    "\n",
    "In the last notebooks, we already saw how to import Python libraries. Now, we have a deeper look into the python libraries `pandas` and `numpy`. Since they are not built in Python libraries, we have to install them using pip, which is a package installer for Python. So if you don't have the libraries installed already, run `pip3 install pandas` and `pip3 install numpy` in your terminal."
   ]
  },
  {
   "cell_type": "markdown",
   "metadata": {},
   "source": []
  }
 ],
 "metadata": {
  "language_info": {
   "name": "python"
  }
 },
 "nbformat": 4,
 "nbformat_minor": 2
}
