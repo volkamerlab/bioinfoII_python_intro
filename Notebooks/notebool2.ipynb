{
 "cells": [
  {
   "cell_type": "markdown",
   "metadata": {},
   "source": [
    "## Important Python Libraries\n",
    "\n",
    "In the last notebooks, we already saw how to import Python libraries. Now, we have a deeper look into the python libraries `pandas` and `numpy`. Since they are not built in Python libraries, we have to install them using pip, which is a package installer for Python. So if you don't have the libraries installed already, run `pip3 install pandas` and `pip3 install numpy` in your terminal."
   ]
  },
  {
   "cell_type": "markdown",
   "metadata": {},
   "source": [
    "Now, we can import them for the notebook. Note that we introduce the abbreviations `np` and `pd`, because of convention :)"
   ]
  },
  {
   "cell_type": "code",
   "execution_count": 1,
   "metadata": {},
   "outputs": [],
   "source": [
    "import pandas as pd\n",
    "import numpy as np"
   ]
  }
 ],
 "metadata": {
  "kernelspec": {
   "display_name": "Python 3",
   "language": "python",
   "name": "python3"
  },
  "language_info": {
   "codemirror_mode": {
    "name": "ipython",
    "version": 3
   },
   "file_extension": ".py",
   "mimetype": "text/x-python",
   "name": "python",
   "nbconvert_exporter": "python",
   "pygments_lexer": "ipython3",
   "version": "3.12.3"
  }
 },
 "nbformat": 4,
 "nbformat_minor": 2
}
